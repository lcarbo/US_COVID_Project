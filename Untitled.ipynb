{
 "cells": [
  {
   "cell_type": "code",
   "execution_count": 1,
   "metadata": {},
   "outputs": [],
   "source": [
    "#Import Dependencies \n",
    "import numpy as np\n",
    "import pandas as pd\n",
    "import matplotlib.pyplot as plt\n",
    "import requests\n",
    "from census import Census\n",
    "\n",
    "state_abb = \"Resources/state-abbrevs.csv\"\n",
    "state_area = \"Resources/state-areas.csv\"\n",
    "\n",
    "state_abb_read = pd.read_csv(state_abb)\n",
    "state_abb_df = pd.DataFrame(state_abb_read)\n",
    "state_area_read = pd.read_csv(state_area)\n",
    "state_area_df = pd.DataFrame(state_area_read)\n",
    "state_info_df = pd.merge(state_abb_df, state_area_df)\n",
    "# print(state_info_df)"
   ]
  },
  {
   "cell_type": "code",
   "execution_count": 2,
   "metadata": {},
   "outputs": [],
   "source": [
    "covid_file= \"Resources/all-states-history-1219.csv\"\n",
    "covid_data=pd.read_csv(covid_file)\n",
    "covid_df = pd.DataFrame(covid_data) \n",
    "covid_df.rename(columns = {\"state\" : \"abbreviation\"}, inplace = True)\n",
    "# print(covid_df)"
   ]
  },
  {
   "cell_type": "code",
   "execution_count": 5,
   "metadata": {},
   "outputs": [
    {
     "name": "stdout",
     "output_type": "stream",
     "text": [
      "float64\n",
      "         state abbreviation  area (sq. mi)      date dataQualityGrade   death  \\\n",
      "0      Alabama           AL          52423  12/18/20                A  4296.0   \n",
      "1      Alabama           AL          52423  12/17/20                A  4254.0   \n",
      "2      Alabama           AL          52423  12/16/20                A  4198.0   \n",
      "3      Alabama           AL          52423  12/15/20                A  4124.0   \n",
      "4      Alabama           AL          52423  12/14/20                A  4102.0   \n",
      "...        ...          ...            ...       ...              ...     ...   \n",
      "14920  Wyoming           WY          97818    3/5/20              NaN     NaN   \n",
      "14921  Wyoming           WY          97818    3/4/20              NaN     NaN   \n",
      "14922  Wyoming           WY          97818    3/3/20              NaN     NaN   \n",
      "14923  Wyoming           WY          97818    3/2/20              NaN     NaN   \n",
      "14924  Wyoming           WY          97818    3/1/20              NaN     NaN   \n",
      "\n",
      "       hospitalized  positive   negative  recovered  totalTestResults  \n",
      "0           30224.0  315683.0  1507204.0   183625.0         1764750.0  \n",
      "1           29559.0  310335.0  1499349.0   183625.0         1752713.0  \n",
      "2           29559.0  305640.0  1491279.0   183625.0         1741128.0  \n",
      "3           29259.0  301533.0  1485182.0   174805.0         1732185.0  \n",
      "4           28913.0  297895.0  1478907.0   174805.0         1723669.0  \n",
      "...             ...       ...        ...        ...               ...  \n",
      "14920           NaN       NaN        NaN        NaN               8.0  \n",
      "14921           NaN       NaN        NaN        NaN               4.0  \n",
      "14922           NaN       NaN        NaN        NaN               1.0  \n",
      "14923           NaN       NaN        NaN        NaN               1.0  \n",
      "14924           NaN       NaN        NaN        NaN               1.0  \n",
      "\n",
      "[14925 rows x 11 columns]\n"
     ]
    }
   ],
   "source": [
    "covid_state = pd.merge(state_info_df, covid_df, on = \"abbreviation\")\n",
    "covid_state.dropna()\n",
    "covid_state = covid_state[[\"state\", \"abbreviation\", \"area (sq. mi)\", \"date\", \"dataQualityGrade\", \"death\", \"hospitalized\", \"positive\", \"negative\", \"recovered\", \"totalTestResults\"]]\n",
    "print(covid_state[\"positive\"].dtypes)\n",
    "covid_state.to_csv(\"COVID_State.csv\", index = False)\n",
    "\n",
    "print(covid_state)"
   ]
  },
  {
   "cell_type": "code",
   "execution_count": null,
   "metadata": {},
   "outputs": [],
   "source": []
  }
 ],
 "metadata": {
  "kernelspec": {
   "display_name": "Python 3",
   "language": "python",
   "name": "python3"
  },
  "language_info": {
   "codemirror_mode": {
    "name": "ipython",
    "version": 3
   },
   "file_extension": ".py",
   "mimetype": "text/x-python",
   "name": "python",
   "nbconvert_exporter": "python",
   "pygments_lexer": "ipython3",
   "version": "3.8.5"
  }
 },
 "nbformat": 4,
 "nbformat_minor": 4
}
