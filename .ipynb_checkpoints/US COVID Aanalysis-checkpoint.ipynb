{
 "cells": [
  {
   "cell_type": "code",
   "execution_count": null,
   "metadata": {},
   "outputs": [],
   "source": [
    "CDC_COVID_API = https://data.cdc.gov/resource/vbim-akqf.json "
   ]
  },
  {
   "cell_type": "code",
   "execution_count": 1,
   "metadata": {},
   "outputs": [],
   "source": [
    "#Import Dependencies \n",
    "import numpy as np\n",
    "import pandas as pd\n",
    "import matplotlib.pyplot as plt\n",
    "import requests\n",
    "from census import Census\n",
    "\n"
   ]
  },
  {
   "cell_type": "code",
   "execution_count": null,
   "metadata": {},
   "outputs": [],
   "source": [
    "Kyle Test"
   ]
  },
  {
   "cell_type": "code",
   "execution_count": 11,
   "metadata": {
    "scrolled": true
   },
   "outputs": [
    {
     "ename": "SyntaxError",
     "evalue": "invalid syntax (<ipython-input-11-b01f2646d6c6>, line 3)",
     "output_type": "error",
     "traceback": [
      "\u001b[0;36m  File \u001b[0;32m\"<ipython-input-11-b01f2646d6c6>\"\u001b[0;36m, line \u001b[0;32m3\u001b[0m\n\u001b[0;31m    census_data=\u001b[0m\n\u001b[0m                 ^\u001b[0m\n\u001b[0;31mSyntaxError\u001b[0m\u001b[0;31m:\u001b[0m invalid syntax\n"
     ]
    }
   ],
   "source": [
    "#read data files \n",
    "\n",
    "census_data= \n",
    "\n",
    "state_sizes = \n"
   ]
  },
  {
   "cell_type": "code",
   "execution_count": 5,
   "metadata": {},
   "outputs": [
    {
     "data": {
      "text/html": [
       "<div>\n",
       "<style scoped>\n",
       "    .dataframe tbody tr th:only-of-type {\n",
       "        vertical-align: middle;\n",
       "    }\n",
       "\n",
       "    .dataframe tbody tr th {\n",
       "        vertical-align: top;\n",
       "    }\n",
       "\n",
       "    .dataframe thead th {\n",
       "        text-align: right;\n",
       "    }\n",
       "</style>\n",
       "<table border=\"1\" class=\"dataframe\">\n",
       "  <thead>\n",
       "    <tr style=\"text-align: right;\">\n",
       "      <th></th>\n",
       "      <th>date</th>\n",
       "      <th>state</th>\n",
       "      <th>dataQualityGrade</th>\n",
       "      <th>death</th>\n",
       "      <th>deathConfirmed</th>\n",
       "      <th>deathIncrease</th>\n",
       "      <th>deathProbable</th>\n",
       "      <th>hospitalized</th>\n",
       "      <th>hospitalizedCumulative</th>\n",
       "      <th>hospitalizedCurrently</th>\n",
       "      <th>...</th>\n",
       "      <th>totalTestResults</th>\n",
       "      <th>totalTestResultsIncrease</th>\n",
       "      <th>totalTestsAntibody</th>\n",
       "      <th>totalTestsAntigen</th>\n",
       "      <th>totalTestsPeopleAntibody</th>\n",
       "      <th>totalTestsPeopleAntigen</th>\n",
       "      <th>totalTestsPeopleViral</th>\n",
       "      <th>totalTestsPeopleViralIncrease</th>\n",
       "      <th>totalTestsViral</th>\n",
       "      <th>totalTestsViralIncrease</th>\n",
       "    </tr>\n",
       "  </thead>\n",
       "  <tbody>\n",
       "    <tr>\n",
       "      <th>0</th>\n",
       "      <td>12/18/20</td>\n",
       "      <td>AK</td>\n",
       "      <td>A</td>\n",
       "      <td>183.0</td>\n",
       "      <td>183.0</td>\n",
       "      <td>0</td>\n",
       "      <td>NaN</td>\n",
       "      <td>928.0</td>\n",
       "      <td>928.0</td>\n",
       "      <td>142.0</td>\n",
       "      <td>...</td>\n",
       "      <td>1184922.0</td>\n",
       "      <td>9199</td>\n",
       "      <td>NaN</td>\n",
       "      <td>NaN</td>\n",
       "      <td>NaN</td>\n",
       "      <td>NaN</td>\n",
       "      <td>NaN</td>\n",
       "      <td>0</td>\n",
       "      <td>1184922.0</td>\n",
       "      <td>9199</td>\n",
       "    </tr>\n",
       "    <tr>\n",
       "      <th>1</th>\n",
       "      <td>12/18/20</td>\n",
       "      <td>AL</td>\n",
       "      <td>A</td>\n",
       "      <td>4296.0</td>\n",
       "      <td>3772.0</td>\n",
       "      <td>42</td>\n",
       "      <td>524.0</td>\n",
       "      <td>30224.0</td>\n",
       "      <td>30224.0</td>\n",
       "      <td>2447.0</td>\n",
       "      <td>...</td>\n",
       "      <td>1764750.0</td>\n",
       "      <td>12037</td>\n",
       "      <td>NaN</td>\n",
       "      <td>NaN</td>\n",
       "      <td>80872.0</td>\n",
       "      <td>NaN</td>\n",
       "      <td>1764750.0</td>\n",
       "      <td>12037</td>\n",
       "      <td>NaN</td>\n",
       "      <td>0</td>\n",
       "    </tr>\n",
       "    <tr>\n",
       "      <th>2</th>\n",
       "      <td>12/18/20</td>\n",
       "      <td>AR</td>\n",
       "      <td>A+</td>\n",
       "      <td>3139.0</td>\n",
       "      <td>2776.0</td>\n",
       "      <td>27</td>\n",
       "      <td>363.0</td>\n",
       "      <td>10430.0</td>\n",
       "      <td>10430.0</td>\n",
       "      <td>1073.0</td>\n",
       "      <td>...</td>\n",
       "      <td>1913448.0</td>\n",
       "      <td>13674</td>\n",
       "      <td>NaN</td>\n",
       "      <td>21856.0</td>\n",
       "      <td>NaN</td>\n",
       "      <td>198712.0</td>\n",
       "      <td>NaN</td>\n",
       "      <td>0</td>\n",
       "      <td>1913448.0</td>\n",
       "      <td>13674</td>\n",
       "    </tr>\n",
       "    <tr>\n",
       "      <th>3</th>\n",
       "      <td>12/18/20</td>\n",
       "      <td>AS</td>\n",
       "      <td>D</td>\n",
       "      <td>0.0</td>\n",
       "      <td>NaN</td>\n",
       "      <td>0</td>\n",
       "      <td>NaN</td>\n",
       "      <td>NaN</td>\n",
       "      <td>NaN</td>\n",
       "      <td>NaN</td>\n",
       "      <td>...</td>\n",
       "      <td>2140.0</td>\n",
       "      <td>0</td>\n",
       "      <td>NaN</td>\n",
       "      <td>NaN</td>\n",
       "      <td>NaN</td>\n",
       "      <td>NaN</td>\n",
       "      <td>NaN</td>\n",
       "      <td>0</td>\n",
       "      <td>2140.0</td>\n",
       "      <td>0</td>\n",
       "    </tr>\n",
       "    <tr>\n",
       "      <th>4</th>\n",
       "      <td>12/18/20</td>\n",
       "      <td>AZ</td>\n",
       "      <td>A+</td>\n",
       "      <td>7819.0</td>\n",
       "      <td>7142.0</td>\n",
       "      <td>142</td>\n",
       "      <td>677.0</td>\n",
       "      <td>32293.0</td>\n",
       "      <td>32293.0</td>\n",
       "      <td>3931.0</td>\n",
       "      <td>...</td>\n",
       "      <td>4514548.0</td>\n",
       "      <td>51882</td>\n",
       "      <td>381780.0</td>\n",
       "      <td>NaN</td>\n",
       "      <td>NaN</td>\n",
       "      <td>NaN</td>\n",
       "      <td>2605792.0</td>\n",
       "      <td>22398</td>\n",
       "      <td>4514548.0</td>\n",
       "      <td>51882</td>\n",
       "    </tr>\n",
       "  </tbody>\n",
       "</table>\n",
       "<p>5 rows × 42 columns</p>\n",
       "</div>"
      ],
      "text/plain": [
       "       date state dataQualityGrade   death  deathConfirmed  deathIncrease  \\\n",
       "0  12/18/20    AK                A   183.0           183.0              0   \n",
       "1  12/18/20    AL                A  4296.0          3772.0             42   \n",
       "2  12/18/20    AR               A+  3139.0          2776.0             27   \n",
       "3  12/18/20    AS                D     0.0             NaN              0   \n",
       "4  12/18/20    AZ               A+  7819.0          7142.0            142   \n",
       "\n",
       "   deathProbable  hospitalized  hospitalizedCumulative  hospitalizedCurrently  \\\n",
       "0            NaN         928.0                   928.0                  142.0   \n",
       "1          524.0       30224.0                 30224.0                 2447.0   \n",
       "2          363.0       10430.0                 10430.0                 1073.0   \n",
       "3            NaN           NaN                     NaN                    NaN   \n",
       "4          677.0       32293.0                 32293.0                 3931.0   \n",
       "\n",
       "   ...  totalTestResults  totalTestResultsIncrease  totalTestsAntibody  \\\n",
       "0  ...         1184922.0                      9199                 NaN   \n",
       "1  ...         1764750.0                     12037                 NaN   \n",
       "2  ...         1913448.0                     13674                 NaN   \n",
       "3  ...            2140.0                         0                 NaN   \n",
       "4  ...         4514548.0                     51882            381780.0   \n",
       "\n",
       "   totalTestsAntigen  totalTestsPeopleAntibody  totalTestsPeopleAntigen  \\\n",
       "0                NaN                       NaN                      NaN   \n",
       "1                NaN                   80872.0                      NaN   \n",
       "2            21856.0                       NaN                 198712.0   \n",
       "3                NaN                       NaN                      NaN   \n",
       "4                NaN                       NaN                      NaN   \n",
       "\n",
       "   totalTestsPeopleViral  totalTestsPeopleViralIncrease  totalTestsViral  \\\n",
       "0                    NaN                              0        1184922.0   \n",
       "1              1764750.0                          12037              NaN   \n",
       "2                    NaN                              0        1913448.0   \n",
       "3                    NaN                              0           2140.0   \n",
       "4              2605792.0                          22398        4514548.0   \n",
       "\n",
       "   totalTestsViralIncrease  \n",
       "0                     9199  \n",
       "1                        0  \n",
       "2                    13674  \n",
       "3                        0  \n",
       "4                    51882  \n",
       "\n",
       "[5 rows x 42 columns]"
      ]
     },
     "execution_count": 5,
     "metadata": {},
     "output_type": "execute_result"
    }
   ],
   "source": [
    "#create covid data frame\n",
    "covid_file= \"Resources/all-states-history-1219.csv\"\n",
    "covid_data=pd.read_csv(covid_file)\n",
    "covid_df = pd.DataFrame(covid_data) \n",
    "covid_df.head()"
   ]
  },
  {
   "cell_type": "code",
   "execution_count": null,
   "metadata": {},
   "outputs": [],
   "source": [
    "#using dataframe of State Abbrevs and State Areas \n"
   ]
  },
  {
   "cell_type": "code",
   "execution_count": null,
   "metadata": {},
   "outputs": [],
   "source": [
    "#review and clean the covid data \n",
    "#remove outliers, rename columns"
   ]
  },
  {
   "cell_type": "code",
   "execution_count": null,
   "metadata": {},
   "outputs": [],
   "source": [
    "#gather general COVID data by states - number of cases by state \n",
    "#overlay onto a map in a heatmap in gmaps / use markers per state showing total cases "
   ]
  },
  {
   "cell_type": "code",
   "execution_count": null,
   "metadata": {},
   "outputs": [],
   "source": [
    "#gather stats about Census data\n",
    "#show population per state as marker "
   ]
  },
  {
   "cell_type": "code",
   "execution_count": null,
   "metadata": {},
   "outputs": [],
   "source": [
    "#compare # of cases v population density "
   ]
  },
  {
   "cell_type": "code",
   "execution_count": null,
   "metadata": {},
   "outputs": [],
   "source": [
    "#combine data about each state and COVID infections grouped by age \n",
    "#include % of population, % of COVID infections "
   ]
  },
  {
   "cell_type": "code",
   "execution_count": null,
   "metadata": {},
   "outputs": [],
   "source": [
    "#create a summary table of US overall "
   ]
  }
 ],
 "metadata": {
  "kernelspec": {
   "display_name": "Python 3",
   "language": "python",
   "name": "python3"
  },
  "language_info": {
   "codemirror_mode": {
    "name": "ipython",
    "version": 3
   },
   "file_extension": ".py",
   "mimetype": "text/x-python",
   "name": "python",
   "nbconvert_exporter": "python",
   "pygments_lexer": "ipython3",
   "version": "3.8.5"
  }
 },
 "nbformat": 4,
 "nbformat_minor": 4
}
